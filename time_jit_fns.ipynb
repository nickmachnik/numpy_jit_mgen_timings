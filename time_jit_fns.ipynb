{
 "cells": [
  {
   "cell_type": "code",
   "execution_count": 1,
   "id": "2f6c349d",
   "metadata": {},
   "outputs": [],
   "source": [
    "import numpy as np\n",
    "from typing import Tuple\n",
    "from numba import jit"
   ]
  },
  {
   "cell_type": "code",
   "execution_count": 7,
   "id": "8fcf2721",
   "metadata": {},
   "outputs": [],
   "source": [
    "def make_x(rng, n, p):\n",
    "    return rng.choice([0, 1, 2, np.nan], size=(n, p))"
   ]
  },
  {
   "cell_type": "code",
   "execution_count": 8,
   "id": "e42f5423",
   "metadata": {},
   "outputs": [],
   "source": [
    "@jit(nopython=True, parallel=True)\n",
    "def cmp_no_expl_loop(xm: np.ndarray, xc: np.ndarray) -> Tuple[np.ndarray, np.ndarray]:\n",
    "    valid = ~(np.isnan(xm) | np.isnan(xc))\n",
    "    xmv = xm[valid].astype(np.int_)\n",
    "    xcv = xc[valid].astype(np.int_)\n",
    "\n",
    "    m = np.zeros_like(xmv, dtype=np.int_)\n",
    "    c = np.zeros_like(xcv, dtype=np.int_)\n",
    "\n",
    "    m[xcv == 1] = 1 - xmv[xcv == 1]\n",
    "    m *= -1\n",
    "\n",
    "    c[xmv == 1] = 1 - xcv[xmv == 1]\n",
    "    c *= -1\n",
    "    \n",
    "    return c, m"
   ]
  },
  {
   "cell_type": "code",
   "execution_count": 9,
   "id": "304922fe",
   "metadata": {},
   "outputs": [],
   "source": [
    "@jit(nopython=True, parallel=True)\n",
    "def cmp_expl_loop(xm: np.ndarray, xc: np.ndarray) -> Tuple[np.ndarray, np.ndarray]:\n",
    "    c = np.zeros_like(xm, dtype=np.int_)\n",
    "    m = np.zeros_like(xm, dtype=np.int_)\n",
    "    write_ix = 0\n",
    "    for read_ix in np.arange(len(xm)):\n",
    "        if np.isnan(xm[read_ix]) | np.isnan(xc[read_ix]):\n",
    "            continue\n",
    "        curr_xc = xc[read_ix]\n",
    "        curr_xm = xm[read_ix]\n",
    "        if curr_xc == 0:\n",
    "            c[write_ix] = -1\n",
    "        elif curr_xc == 2:\n",
    "            c[write_ix] = 1\n",
    "        if curr_xm == 0:\n",
    "            m[write_ix] = -1\n",
    "        elif curr_xm == 2:\n",
    "            m[write_ix] = 1\n",
    "        write_ix += 1\n",
    "    return c[:write_ix], m[:write_ix]"
   ]
  },
  {
   "cell_type": "code",
   "execution_count": 10,
   "id": "df4ba731",
   "metadata": {},
   "outputs": [],
   "source": [
    "rng = np.random.default_rng()\n",
    "n = 1000\n",
    "p = 10000\n",
    "xm = make_x(rng, n, p)\n",
    "xc = make_x(rng, n, p)\n",
    "\n",
    "c1, m1 = cmp_no_expl_loop(xm.flatten(), xc.flatten())\n",
    "c2, m2 = cmp_expl_loop(xm.flatten(), xc.flatten())"
   ]
  },
  {
   "cell_type": "code",
   "execution_count": 11,
   "id": "79161203",
   "metadata": {},
   "outputs": [
    {
     "name": "stdout",
     "output_type": "stream",
     "text": [
      "651 ms ± 39.3 ms per loop (mean ± std. dev. of 7 runs, 1 loop each)\n"
     ]
    }
   ],
   "source": [
    "%%timeit\n",
    "c1, m1 = cmp_no_expl_loop(xm.flatten(), xc.flatten())"
   ]
  },
  {
   "cell_type": "code",
   "execution_count": 12,
   "id": "4e35f15b",
   "metadata": {},
   "outputs": [
    {
     "name": "stdout",
     "output_type": "stream",
     "text": [
      "466 ms ± 19.2 ms per loop (mean ± std. dev. of 7 runs, 1 loop each)\n"
     ]
    }
   ],
   "source": [
    "%%timeit\n",
    "c2, m2 = cmp_expl_loop(xm.flatten(), xc.flatten())"
   ]
  }
 ],
 "metadata": {
  "kernelspec": {
   "display_name": "Python 3 (ipykernel)",
   "language": "python",
   "name": "python3"
  },
  "language_info": {
   "codemirror_mode": {
    "name": "ipython",
    "version": 3
   },
   "file_extension": ".py",
   "mimetype": "text/x-python",
   "name": "python",
   "nbconvert_exporter": "python",
   "pygments_lexer": "ipython3",
   "version": "3.9.6"
  }
 },
 "nbformat": 4,
 "nbformat_minor": 5
}
