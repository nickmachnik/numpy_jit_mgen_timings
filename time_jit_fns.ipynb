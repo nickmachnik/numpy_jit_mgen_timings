{
 "cells": [
  {
   "cell_type": "code",
   "execution_count": 1,
   "id": "bdd426c0",
   "metadata": {},
   "outputs": [],
   "source": [
    "import numpy as np\n",
    "from typing import Tuple\n",
    "from numba import jit"
   ]
  },
  {
   "cell_type": "code",
   "execution_count": 65,
   "id": "d4c732ff",
   "metadata": {},
   "outputs": [],
   "source": [
    "def make_x(rng, n, p):\n",
    "    return rng.choice([0, 1, 2, np.nan], size=(n, p))\n",
    "\n",
    "v = {\n",
    "    (1, 0),\n",
    "    (1, 2),\n",
    "    (0, 1),\n",
    "    (2, 1)\n",
    "}\n",
    "\n",
    "def clean(arr_a: np.ndarray, arr_b: np.ndarray) -> Tuple[np.ndarray, np.ndarray]:\n",
    "    new_a = []\n",
    "    new_b = []\n",
    "    for a, b in zip(arr_a, arr_b):\n",
    "        if (np.isnan(a) or np.isnan(b)) or ((a, b) in v):\n",
    "            new_a.append(a)\n",
    "            new_b.append(b)\n",
    "    return np.asarray(new_a), np.asarray(new_b)"
   ]
  },
  {
   "cell_type": "code",
   "execution_count": 60,
   "id": "5f5a062e",
   "metadata": {},
   "outputs": [],
   "source": [
    "@jit(nopython=True, parallel=True)\n",
    "def cmp_no_expl_loop(xm: np.ndarray, xc: np.ndarray) -> Tuple[np.ndarray, np.ndarray]:\n",
    "    valid = ~(np.isnan(xm) | np.isnan(xc))\n",
    "    xmv = xm[valid].astype(np.int_)\n",
    "    xcv = xc[valid].astype(np.int_)\n",
    "\n",
    "    m = np.zeros_like(xmv, dtype=np.int_)\n",
    "    c = np.zeros_like(xcv, dtype=np.int_)\n",
    "\n",
    "    m_sel = [xcv == 1]\n",
    "    m[m_sel] = -1 + xmv[m_sel]\n",
    "\n",
    "    c_sel = [xcv == 1]\n",
    "    c[xmv == 1] = -1 + xcv[xmv == 1]\n",
    "    \n",
    "    return c, m"
   ]
  },
  {
   "cell_type": "code",
   "execution_count": 61,
   "id": "f7d4956e",
   "metadata": {},
   "outputs": [],
   "source": [
    "@jit(nopython=True, parallel=True)\n",
    "def cmp_expl_loop(xm: np.ndarray, xc: np.ndarray) -> Tuple[np.ndarray, np.ndarray]:\n",
    "    c = np.zeros_like(xm, dtype=np.int_)\n",
    "    m = np.zeros_like(xm, dtype=np.int_)\n",
    "    write_ix = 0\n",
    "    for read_ix in np.arange(len(xm)):\n",
    "        if np.isnan(xm[read_ix]) | np.isnan(xc[read_ix]):\n",
    "            continue\n",
    "        curr_xc = xc[read_ix]\n",
    "        curr_xm = xm[read_ix]\n",
    "        if curr_xc == 0:\n",
    "            c[write_ix] = -1\n",
    "        elif curr_xc == 2:\n",
    "            c[write_ix] = 1\n",
    "        if curr_xm == 0:\n",
    "            m[write_ix] = -1\n",
    "        elif curr_xm == 2:\n",
    "            m[write_ix] = 1\n",
    "        write_ix += 1\n",
    "    return c[:write_ix], m[:write_ix]"
   ]
  },
  {
   "cell_type": "code",
   "execution_count": 62,
   "id": "787d679e",
   "metadata": {},
   "outputs": [],
   "source": [
    "rng = np.random.default_rng()\n",
    "n = 1000\n",
    "p = 10000\n",
    "\n",
    "xm, xc = make_x(rng, n, p).flatten(), make_x(rng, n, p).flatten()\n",
    "\n",
    "c1, m1 = cmp_no_expl_loop(xm, xc)\n",
    "c2, m2 = cmp_expl_loop(xm, xc)"
   ]
  },
  {
   "cell_type": "code",
   "execution_count": 63,
   "id": "8dfbf805",
   "metadata": {},
   "outputs": [
    {
     "name": "stdout",
     "output_type": "stream",
     "text": [
      "600 ms ± 2.13 ms per loop (mean ± std. dev. of 7 runs, 1 loop each)\n"
     ]
    }
   ],
   "source": [
    "%%timeit\n",
    "c1, m1 = cmp_no_expl_loop(xm.flatten(), xc.flatten())"
   ]
  },
  {
   "cell_type": "code",
   "execution_count": 64,
   "id": "256c160b",
   "metadata": {},
   "outputs": [
    {
     "name": "stdout",
     "output_type": "stream",
     "text": [
      "451 ms ± 2.67 ms per loop (mean ± std. dev. of 7 runs, 1 loop each)\n"
     ]
    }
   ],
   "source": [
    "%%timeit\n",
    "c2, m2 = cmp_expl_loop(xm.flatten(), xc.flatten())"
   ]
  }
 ],
 "metadata": {
  "kernelspec": {
   "display_name": "Python 3 (ipykernel)",
   "language": "python",
   "name": "python3"
  },
  "language_info": {
   "codemirror_mode": {
    "name": "ipython",
    "version": 3
   },
   "file_extension": ".py",
   "mimetype": "text/x-python",
   "name": "python",
   "nbconvert_exporter": "python",
   "pygments_lexer": "ipython3",
   "version": "3.9.6"
  }
 },
 "nbformat": 4,
 "nbformat_minor": 5
}
